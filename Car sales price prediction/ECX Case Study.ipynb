{
 "cells": [
  {
   "cell_type": "markdown",
   "metadata": {},
   "source": [
    " <h1 style=\"text-align:center\"> ECX Case Study </h1>\n",
    "\n",
    "**Business problems and challenges:**\n",
    "\n",
    "Management have just advised that we have 110 “2018 4runner trd pro” being returned today, they are all in good condition with average km's for their age.\n",
    "\n",
    "Management is trying to understand what is the sale price we can get for these vehicles along with any other factors they should consider in the sale.\n",
    "\n",
    "**Solution**\n",
    "\n",
    "The company has provided previous selling dataset, including sales information of different types of Toyota cars. We can build a model to predict the price of a specific type of car. We can look this as a regression problem.  \n",
    "\n",
    "The main process of implementing the problem could be divided into the following steps:\n",
    "\n",
    " - Data cleaning\n",
    "\n",
    " - Feature engineering\n",
    "\n",
    " - Modelling\n"
   ]
  },
  {
   "cell_type": "markdown",
   "metadata": {},
   "source": [
    "## 1. Data Overview\n",
    "\n",
    "The dataset comprises 17 columns with 23549 rows entries:\n",
    "- `id`: each car has a unique recording id.\n",
    "- `price`: sold price.\n",
    "- `year`: the manufactured year of the car.\n",
    "- `manufacturer`: vehicle manufacturer. In this dataset, all cars are from Toyota company.\n",
    "- `model`: vehicle model.\n",
    "- `condition`: vehicle's condition, including excellent, like new, etc. \n",
    "- `odometer`: vehicle's odometer number when sold.\n",
    "- `title_status`: such as rebuilt, lien, missing, etc.\n",
    "- `transmission`\n",
    "- `VIN`: vehcile identification number\n",
    "- `drive`: includes 4wd, rwd, fwd, etc.\n",
    "\n",
    "Other information such as `fuel`, `cylinders`, `type`, `paint_color`, `size`, and `Sold_Date` also included in the dataset."
   ]
  },
  {
   "cell_type": "code",
   "execution_count": 1,
   "metadata": {},
   "outputs": [],
   "source": [
    "import pandas as pd\n",
    "import numpy as np\n",
    "import matplotlib.pyplot as plt\n",
    "import seaborn as sns\n",
    "import re\n",
    "from sklearn.metrics import mean_squared_error\n",
    "from sklearn.model_selection import KFold\n",
    "from sklearn.model_selection import train_test_split\n",
    "import lightgbm as lgb\n",
    "from sklearn.model_selection import RandomizedSearchCV \n",
    "from scipy.stats import randint as sp_randint\n",
    "from scipy.stats import uniform\n",
    "from prettytable import PrettyTable"
   ]
  },
  {
   "cell_type": "code",
   "execution_count": 2,
   "metadata": {},
   "outputs": [
    {
     "data": {
      "text/html": [
       "<div>\n",
       "<style scoped>\n",
       "    .dataframe tbody tr th:only-of-type {\n",
       "        vertical-align: middle;\n",
       "    }\n",
       "\n",
       "    .dataframe tbody tr th {\n",
       "        vertical-align: top;\n",
       "    }\n",
       "\n",
       "    .dataframe thead th {\n",
       "        text-align: right;\n",
       "    }\n",
       "</style>\n",
       "<table border=\"1\" class=\"dataframe\">\n",
       "  <thead>\n",
       "    <tr style=\"text-align: right;\">\n",
       "      <th></th>\n",
       "      <th>id</th>\n",
       "      <th>price</th>\n",
       "      <th>year</th>\n",
       "      <th>manufacturer</th>\n",
       "      <th>model</th>\n",
       "      <th>condition</th>\n",
       "      <th>cylinders</th>\n",
       "      <th>fuel</th>\n",
       "      <th>odometer</th>\n",
       "      <th>title_status</th>\n",
       "      <th>transmission</th>\n",
       "      <th>VIN</th>\n",
       "      <th>drive</th>\n",
       "      <th>size</th>\n",
       "      <th>type</th>\n",
       "      <th>paint_color</th>\n",
       "      <th>Sold Date</th>\n",
       "    </tr>\n",
       "  </thead>\n",
       "  <tbody>\n",
       "    <tr>\n",
       "      <th>0</th>\n",
       "      <td>29651</td>\n",
       "      <td>24914</td>\n",
       "      <td>2016</td>\n",
       "      <td>toyota</td>\n",
       "      <td>4runner</td>\n",
       "      <td>NaN</td>\n",
       "      <td>6 cylinders</td>\n",
       "      <td>gas</td>\n",
       "      <td>92966.0</td>\n",
       "      <td>clean</td>\n",
       "      <td>automatic</td>\n",
       "      <td>NaN</td>\n",
       "      <td>rwd</td>\n",
       "      <td>mid-size</td>\n",
       "      <td>SUV</td>\n",
       "      <td>white</td>\n",
       "      <td>2021-04-07T12:59:13-0500</td>\n",
       "    </tr>\n",
       "    <tr>\n",
       "      <th>1</th>\n",
       "      <td>29653</td>\n",
       "      <td>37995</td>\n",
       "      <td>2018</td>\n",
       "      <td>toyota</td>\n",
       "      <td>4runner</td>\n",
       "      <td>NaN</td>\n",
       "      <td>NaN</td>\n",
       "      <td>gas</td>\n",
       "      <td>38196.0</td>\n",
       "      <td>clean</td>\n",
       "      <td>automatic</td>\n",
       "      <td>JTEZU5JR9J5180715</td>\n",
       "      <td>NaN</td>\n",
       "      <td>NaN</td>\n",
       "      <td>SUV</td>\n",
       "      <td>white</td>\n",
       "      <td>2021-04-06T12:30:38-0500</td>\n",
       "    </tr>\n",
       "    <tr>\n",
       "      <th>2</th>\n",
       "      <td>29658</td>\n",
       "      <td>18605</td>\n",
       "      <td>2013</td>\n",
       "      <td>toyota</td>\n",
       "      <td>4runner</td>\n",
       "      <td>NaN</td>\n",
       "      <td>6 cylinders</td>\n",
       "      <td>gas</td>\n",
       "      <td>165859.0</td>\n",
       "      <td>clean</td>\n",
       "      <td>automatic</td>\n",
       "      <td>NaN</td>\n",
       "      <td>4wd</td>\n",
       "      <td>mid-size</td>\n",
       "      <td>SUV</td>\n",
       "      <td>black</td>\n",
       "      <td>2021-04-05T06:27:51-0500</td>\n",
       "    </tr>\n",
       "    <tr>\n",
       "      <th>3</th>\n",
       "      <td>29671</td>\n",
       "      <td>22950</td>\n",
       "      <td>2014</td>\n",
       "      <td>toyota</td>\n",
       "      <td>4runner</td>\n",
       "      <td>excellent</td>\n",
       "      <td>6 cylinders</td>\n",
       "      <td>gas</td>\n",
       "      <td>145160.0</td>\n",
       "      <td>clean</td>\n",
       "      <td>automatic</td>\n",
       "      <td>JTEBU5JR5E5155575</td>\n",
       "      <td>4wd</td>\n",
       "      <td>NaN</td>\n",
       "      <td>SUV</td>\n",
       "      <td>white</td>\n",
       "      <td>2021-05-04T15:30:20-0500</td>\n",
       "    </tr>\n",
       "    <tr>\n",
       "      <th>4</th>\n",
       "      <td>29699</td>\n",
       "      <td>24998</td>\n",
       "      <td>2013</td>\n",
       "      <td>toyota</td>\n",
       "      <td>4runner</td>\n",
       "      <td>NaN</td>\n",
       "      <td>6 cylinders</td>\n",
       "      <td>gas</td>\n",
       "      <td>99007.0</td>\n",
       "      <td>clean</td>\n",
       "      <td>automatic</td>\n",
       "      <td>NaN</td>\n",
       "      <td>rwd</td>\n",
       "      <td>mid-size</td>\n",
       "      <td>SUV</td>\n",
       "      <td>black</td>\n",
       "      <td>2021-05-04T10:11:27-0500</td>\n",
       "    </tr>\n",
       "  </tbody>\n",
       "</table>\n",
       "</div>"
      ],
      "text/plain": [
       "      id  price  year manufacturer    model  condition    cylinders fuel  \\\n",
       "0  29651  24914  2016       toyota  4runner        NaN  6 cylinders  gas   \n",
       "1  29653  37995  2018       toyota  4runner        NaN          NaN  gas   \n",
       "2  29658  18605  2013       toyota  4runner        NaN  6 cylinders  gas   \n",
       "3  29671  22950  2014       toyota  4runner  excellent  6 cylinders  gas   \n",
       "4  29699  24998  2013       toyota  4runner        NaN  6 cylinders  gas   \n",
       "\n",
       "   odometer title_status transmission                VIN drive      size type  \\\n",
       "0   92966.0        clean    automatic                NaN   rwd  mid-size  SUV   \n",
       "1   38196.0        clean    automatic  JTEZU5JR9J5180715   NaN       NaN  SUV   \n",
       "2  165859.0        clean    automatic                NaN   4wd  mid-size  SUV   \n",
       "3  145160.0        clean    automatic  JTEBU5JR5E5155575   4wd       NaN  SUV   \n",
       "4   99007.0        clean    automatic                NaN   rwd  mid-size  SUV   \n",
       "\n",
       "  paint_color                 Sold Date  \n",
       "0       white  2021-04-07T12:59:13-0500  \n",
       "1       white  2021-04-06T12:30:38-0500  \n",
       "2       black  2021-04-05T06:27:51-0500  \n",
       "3       white  2021-05-04T15:30:20-0500  \n",
       "4       black  2021-05-04T10:11:27-0500  "
      ]
     },
     "execution_count": 2,
     "metadata": {},
     "output_type": "execute_result"
    }
   ],
   "source": [
    "ecx_data = pd.read_excel('ECX data.xlsb',engine='pyxlsb')\n",
    "ecx_data.head()"
   ]
  },
  {
   "cell_type": "code",
   "execution_count": 3,
   "metadata": {},
   "outputs": [
    {
     "name": "stdout",
     "output_type": "stream",
     "text": [
      "<class 'pandas.core.frame.DataFrame'>\n",
      "RangeIndex: 23549 entries, 0 to 23548\n",
      "Data columns (total 17 columns):\n",
      " #   Column        Non-Null Count  Dtype  \n",
      "---  ------        --------------  -----  \n",
      " 0   id            23549 non-null  int64  \n",
      " 1   price         23549 non-null  int64  \n",
      " 2   year          23549 non-null  int64  \n",
      " 3   manufacturer  23549 non-null  object \n",
      " 4   model         23549 non-null  object \n",
      " 5   condition     14359 non-null  object \n",
      " 6   cylinders     14750 non-null  object \n",
      " 7   fuel          23331 non-null  object \n",
      " 8   odometer      23308 non-null  float64\n",
      " 9   title_status  23020 non-null  object \n",
      " 10  transmission  23387 non-null  object \n",
      " 11  VIN           15498 non-null  object \n",
      " 12  drive         17373 non-null  object \n",
      " 13  size          6358 non-null   object \n",
      " 14  type          19477 non-null  object \n",
      " 15  paint_color   16989 non-null  object \n",
      " 16  Sold Date     23549 non-null  object \n",
      "dtypes: float64(1), int64(3), object(13)\n",
      "memory usage: 3.1+ MB\n"
     ]
    }
   ],
   "source": [
    "ecx_data.info()"
   ]
  },
  {
   "cell_type": "markdown",
   "metadata": {},
   "source": [
    "There are numerous missing values in the dataset, which can be shown in either the data info or the graph liseted below. Thus, we should handle the 'dirty' dataset first."
   ]
  },
  {
   "cell_type": "code",
   "execution_count": 4,
   "metadata": {},
   "outputs": [
    {
     "data": {
      "image/png": "[encoded data removed]",
      "text/plain": [
       "<Figure size 720x360 with 1 Axes>"
      ]
     },
     "metadata": {
      "needs_background": "light"
     },
     "output_type": "display_data"
    }
   ],
   "source": [
    "nulls = ecx_data.isnull().sum()\n",
    "plt.figure(figsize=(10,5))\n",
    "plt.bar(nulls.index, nulls , color='#929591')\n",
    "plt.ylabel('Number of missing values',fontsize=12)\n",
    "plt.xticks(rotation=90) \n",
    "for idx, val in nulls.iteritems():\n",
    "    if val != 0:\n",
    "        plt.text(idx, val, str(val), color='black')\n",
    "plt.show()"
   ]
  },
  {
   "cell_type": "markdown",
   "metadata": {},
   "source": [
    "## 2. Data cleaning\n",
    "\n",
    "In this section, we will create a series of functions to complete the data cleaning task to improve the data quality, making it easier for following analysis.\n",
    "\n",
    "According to research, Toyota has 16 different types of vehicle (such as 4Runner, Tacoma etc.), and each model has its different configurations (sub-model). To classify different vehicle models, we only use the main model type to represent all cars belonging to it. Meanwhile, if the selling records of a specific vehicle model is less than 30, we will remove these records as the ML model couldn't learn well when data size is considered small.\n",
    "\n",
    "After cleaning the vehicle model, we can use the model and manufacture year to handle some missing values. Finally, we should remove some invalid entries to improve the data quality.\n",
    "\n",
    "- **Pre-Processing the text feature**\n",
    "  \n",
    "  This analysis uses the main model name to represent all sub-models in order to make the 'model' feature neat. It \n",
    "  can also be useful to handle missing values whereas certain vehicle models with less than 30 selling records may be removed as  the ML model could not learn and predict well.\n",
    "  \n",
    "\n",
    "- **Handle missing values**\n",
    "\n",
    "  We estimate that the same vehicle model manufactured in the same year are likely to have same cylinder configuration (4,6,8,etc.) and body type (such as SUV, sedan, truck, etc.). Using this method to fill some missing values. \n",
    "  \n",
    "  If important field with missing value, it could be dropped. \n",
    "  \n",
    "\n",
    "- **Reduce redundancy**\n",
    "\n",
    "  Some entries are invalid such as the records with unreasonable `price` value (0, 100, or over 100,000, etc.)\n"
   ]
  },
  {
   "cell_type": "markdown",
   "metadata": {},
   "source": [
    "### 2.1 Pre-processing text feature\n",
    "\n",
    "In this section, the `model` column is cleaned by classifying model name into several main category, and removing some model sales information with less 30 records."
   ]
  },
  {
   "cell_type": "code",
   "execution_count": 5,
   "metadata": {},
   "outputs": [],
   "source": [
    "def model_name(string):\n",
    "    toyota = ['tacoma','tundra','rav4','prius','sienna','4runner','86',\n",
    "             'yaris','highlander','avalon','venza','fj cruiser','matrix',\n",
    "              'sequoia','scion','mr2']\n",
    "    string = re.sub('[^A-Za-z0-9\\s]','',string)\n",
    "    string = re.sub('\\s+',' ',string)\n",
    "    names = string.split()\n",
    "    for name in names:\n",
    "        for tya in toyota:\n",
    "            if name in tya:\n",
    "                string = tya\n",
    "                break        \n",
    "    return string\n",
    "\n",
    "def drop_row(df):\n",
    "    removed = []\n",
    "    categories = df['clean_model'].value_counts()\n",
    "    \n",
    "    for idx, val in categories.iteritems():\n",
    "        if val < 30:\n",
    "            removed.append(idx)\n",
    "            \n",
    "    for idx, row in df.iterrows():\n",
    "        if row['clean_model'] in removed:\n",
    "            df.drop(idx, inplace=True)\n",
    "            \n",
    "    return df "
   ]
  },
  {
   "cell_type": "code",
   "execution_count": 6,
   "metadata": {},
   "outputs": [],
   "source": [
    "clean_model = ecx_data.copy()\n",
    "\n",
    "clean_model['clean_model'] = clean_model['model'].apply(model_name)\n",
    "clean_model = drop_row(clean_model)"
   ]
  },
  {
   "cell_type": "markdown",
   "metadata": {},
   "source": [
    "### 2.2 Handle missing values\n",
    "\n",
    "After cleaning the `model` column, we move on to clean the 'type' and 'drive' columns. According to research, cars manufactured in same year with same model may have same type and cylinders. Therefore, I filled the missing values in `cylinders` and `type` columns. \n",
    "\n",
    "Additionally, if the important feature `odometer` contains missing values, we will directly drop them."
   ]
  },
  {
   "cell_type": "code",
   "execution_count": 7,
   "metadata": {},
   "outputs": [],
   "source": [
    "def fill_type(df):\n",
    "    n_df = df.dropna(subset=['type'])\n",
    "    n_df = df.drop_duplicates(subset=['clean_model','year'])\n",
    "    \n",
    "    for idx, row in df.iterrows():\n",
    "        if row['type'] is np.NaN:\n",
    "            for i, r in n_df.iterrows():\n",
    "                if r['year'] == row['year'] and r['clean_model']==row['clean_model']:\n",
    "                    df.loc[idx,'type'] = n_df.loc[i,'type']\n",
    "    return  df   \n",
    "\n",
    "\n",
    "def fill_cyl(df):\n",
    "    n_df = df.dropna(subset=['cylinders'])\n",
    "    n_df = n_df.drop_duplicates(subset=['clean_model','year'])\n",
    "    \n",
    "    for idx, row in df.iterrows():\n",
    "                     \n",
    "        if row['cylinders'] is np.NaN:\n",
    "            for i, r in n_df.iterrows():\n",
    "                if r['year'] == row['year'] and r['clean_model'] == row['clean_model']:\n",
    "                         df.loc[idx, 'cylinders'] = n_df.loc[i, 'cylinders']\n",
    "    return df            \n",
    "        "
   ]
  },
  {
   "cell_type": "code",
   "execution_count": 8,
   "metadata": {},
   "outputs": [],
   "source": [
    "# fill missing type\n",
    "clean_type = fill_type(clean_model)\n",
    "\n",
    "# fill missing cylinders\n",
    "clean_cyl = fill_cyl(clean_type)\n",
    "\n",
    "# remove null values in odometer column\n",
    "remove_null_odo = clean_cyl.dropna(subset=['odometer'])\n",
    "\n",
    "clean_missing = remove_null_odo.copy()"
   ]
  },
  {
   "cell_type": "markdown",
   "metadata": {},
   "source": [
    "### 2.3 Removing invalid entries\n",
    "\n",
    "Since the `price` column is our target column, we need to remove records with unreasonable values. We set a rule that if the price value is less than 800 or over 100,000, these fields are unreasonable or invalid for the prediction model."
   ]
  },
  {
   "cell_type": "code",
   "execution_count": 9,
   "metadata": {},
   "outputs": [],
   "source": [
    "clean_df = clean_missing[(clean_missing['price'] >=800) & (clean_missing['price'] <100000)]"
   ]
  },
  {
   "cell_type": "code",
   "execution_count": 10,
   "metadata": {},
   "outputs": [
    {
     "name": "stdout",
     "output_type": "stream",
     "text": [
      "<class 'pandas.core.frame.DataFrame'>\n",
      "Int64Index: 20900 entries, 0 to 23548\n",
      "Data columns (total 18 columns):\n",
      " #   Column        Non-Null Count  Dtype  \n",
      "---  ------        --------------  -----  \n",
      " 0   id            20900 non-null  int64  \n",
      " 1   price         20900 non-null  int64  \n",
      " 2   year          20900 non-null  int64  \n",
      " 3   manufacturer  20900 non-null  object \n",
      " 4   model         20900 non-null  object \n",
      " 5   condition     13186 non-null  object \n",
      " 6   cylinders     20848 non-null  object \n",
      " 7   fuel          20722 non-null  object \n",
      " 8   odometer      20900 non-null  float64\n",
      " 9   title_status  20496 non-null  object \n",
      " 10  transmission  20783 non-null  object \n",
      " 11  VIN           13607 non-null  object \n",
      " 12  drive         15408 non-null  object \n",
      " 13  size          5628 non-null   object \n",
      " 14  type          20130 non-null  object \n",
      " 15  paint_color   15413 non-null  object \n",
      " 16  Sold Date     20900 non-null  object \n",
      " 17  clean_model   20900 non-null  object \n",
      "dtypes: float64(1), int64(3), object(14)\n",
      "memory usage: 3.0+ MB\n"
     ]
    }
   ],
   "source": [
    "clean_df.reset_index(drop=True)\n",
    "clean_df.info()"
   ]
  },
  {
   "cell_type": "code",
   "execution_count": 11,
   "metadata": {},
   "outputs": [
    {
     "data": {
      "image/png": "[encoded data removed]",
      "text/plain": [
       "<Figure size 1080x360 with 1 Axes>"
      ]
     },
     "metadata": {
      "needs_background": "light"
     },
     "output_type": "display_data"
    }
   ],
   "source": [
    "c = clean_df.isnull().sum()\n",
    "nulls = ecx_data.isnull().sum()\n",
    "names = ['condition','cylinders','fuel','odometer','title_status',\n",
    "        'transmission','VIN','drive','size','type','paint_color']\n",
    "\n",
    "plt.figure(figsize=(15,5))\n",
    "bar_width = 0.3\n",
    "\n",
    "r1 = np.arange(len(names))\n",
    "r2 = [x + bar_width for x in r1]\n",
    "\n",
    "plt.bar(r1, nulls.loc[names], width=0.3, color='#929591', edgecolor='white', label='Before clean' )\n",
    "plt.bar(r2, c.loc[names], width=0.3, color='#FF7F50', edgecolor='white', label='After clean')\n",
    "plt.ylabel('Number of missing values',fontsize=12)\n",
    "\n",
    "plt.xticks([r + bar_width for r in range(len(names))],names)\n",
    "\n",
    "for i, name in enumerate(names):\n",
    "    plt.text(i, nulls.loc[name], str(nulls.loc[name]), color='black',ha='right')\n",
    "    plt.text(i, c.loc[name], str(c.loc[name]), color='#E50000',ha='left')\n",
    "\n",
    "plt.legend()\n",
    "plt.show()"
   ]
  },
  {
   "cell_type": "code",
   "execution_count": 12,
   "metadata": {},
   "outputs": [
    {
     "data": {
      "image/png": "[encoded data removed]",
      "text/plain": [
       "<Figure size 1080x360 with 1 Axes>"
      ]
     },
     "metadata": {
      "needs_background": "light"
     },
     "output_type": "display_data"
    }
   ],
   "source": [
    "m = clean_df['clean_model'].value_counts()\n",
    "cmps = ['#929591', '#FF7F50']\n",
    "plt.figure(figsize=(15,5))\n",
    "plt.bar(m.index, m , color=cmps)\n",
    "plt.title('Main Type of Vehicle Model', fontsize = 15 )\n",
    "plt.ylabel('Number of count',fontsize=12)\n",
    "plt.xticks(rotation=90, fontsize=10)\n",
    "plt.show()"
   ]
  },
  {
   "cell_type": "code",
   "execution_count": 13,
   "metadata": {},
   "outputs": [
    {
     "data": {
      "image/png": "[encoded data removed]",
      "text/plain": [
       "<Figure size 1080x360 with 1 Axes>"
      ]
     },
     "metadata": {
      "needs_background": "light"
     },
     "output_type": "display_data"
    }
   ],
   "source": [
    "# Show the mdeiam price of each type of vehicle\n",
    "median = clean_df.groupby(by=['clean_model']).median()['price']\n",
    "\n",
    "plt.figure(figsize=(15,5))\n",
    "\n",
    "plt.bar(median.index, median, color=['#929591','#FF7F50'])\n",
    "plt.title('Median Price of Vehicle Model', fontsize = 15 )\n",
    "plt.ylabel('Price',fontsize=12)\n",
    "plt.xticks(rotation=90, fontsize=10)\n",
    "\n",
    "for idx, val in median.iteritems():\n",
    "    plt.text(idx, val, str(val), color='black')\n",
    "        \n",
    "plt.show()"
   ]
  },
  {
   "cell_type": "markdown",
   "metadata": {},
   "source": [
    "After completing the whole cleaning process, let's compare the new dataset with the raw dataset.\n",
    "\n",
    " - Total size: the original dataset consists of 23549 records, while after cleaning, the new dataset consists of 20900 records.\n",
    " \n",
    " - Vehicle category: the original 1339 vehicle models are categorized to 18 main type.\n",
    " \n",
    " - Null values: the comparison of the missing values before and after cleansing has been graphed above. The number of missing values in `cylinders` and `type` columns has dramatically droped based on our filling method.\n",
    "\n",
    "In addition, the cleaned dataset also become neat on `model` column."
   ]
  },
  {
   "cell_type": "markdown",
   "metadata": {},
   "source": [
    "## 3. Feature Engineering\n",
    "\n",
    "Feature Engineering is also a data preparation process to improve the performance of the ML algorithms.\n",
    "\n",
    "The feature engineering process in this task includes: feature selection, feature scalling, and categoric features converting.\n"
   ]
  },
  {
   "cell_type": "markdown",
   "metadata": {},
   "source": [
    "### 3.1 Feature selection\n",
    " \n",
    "Unnecessary features decrease training speed, decrease model interpretability, and, most importantly, decrease generalization performance on the test set.\n",
    "\n",
    "There are some simple rules on feature selection:\n",
    "\n",
    "- Features with a high percentage of missing values\n",
    "- Collinear (highly correlated) features\n",
    "- Features with low importance\n",
    "- Features with a single unique value\n",
    "\n",
    "Based on these rules, the features `manufacturer` (single unique), `id` and `VIN` (each car has a unique value), and `Sold Date` (all between Apr 2021 to May 2021) are unnecessay features, which could be removed.\n",
    "\n",
    "Moreover, if the column with a percentage of missing values over 0.1, it's also considered as unecessary features."
   ]
  },
  {
   "cell_type": "code",
   "execution_count": 14,
   "metadata": {},
   "outputs": [
    {
     "name": "stdout",
     "output_type": "stream",
     "text": [
      "<class 'pandas.core.frame.DataFrame'>\n",
      "Int64Index: 20900 entries, 0 to 23548\n",
      "Data columns (total 9 columns):\n",
      " #   Column        Non-Null Count  Dtype  \n",
      "---  ------        --------------  -----  \n",
      " 0   price         20900 non-null  int64  \n",
      " 1   year          20900 non-null  int64  \n",
      " 2   cylinders     20848 non-null  object \n",
      " 3   fuel          20722 non-null  object \n",
      " 4   odometer      20900 non-null  float64\n",
      " 5   title_status  20496 non-null  object \n",
      " 6   transmission  20783 non-null  object \n",
      " 7   type          20130 non-null  object \n",
      " 8   clean_model   20900 non-null  object \n",
      "dtypes: float64(1), int64(2), object(6)\n",
      "memory usage: 1.6+ MB\n"
     ]
    }
   ],
   "source": [
    "# drop features with single or too many unique values\n",
    "feature_1 = clean_df.drop(columns = ['id','manufacturer','model','VIN','Sold Date','model'])\n",
    "\n",
    "# drop featuers with a large proportion missing values\n",
    "pct_missing = feature_1.isnull().sum()\n",
    "remove_feature = pct_missing[pct_missing > 0.1*(len(feature_1))].index\n",
    "feature_1 = feature_1.drop(columns=list(remove_feature))\n",
    "feature_1.info()"
   ]
  },
  {
   "cell_type": "markdown",
   "metadata": {},
   "source": [
    "### 3.2 Feature scaling\n",
    "\n",
    "The machine learning algorithm works on numbers and does not know what that number represents. If there is a vast difference in a column, it makes the underlying assumption that higher ranging numbers have superiority of some sort. \n",
    "\n",
    "The raw dataset also presents this problem, for example, the values in `odometer` column spans a large range from 0 to 7 million. Therefore, we should scalling the numeric features to minimize the effect of 'number spans large range'.\n",
    "\n",
    "The min-max feature scaling meathod was used to scale the numeric features.\n"
   ]
  },
  {
   "cell_type": "code",
   "execution_count": 15,
   "metadata": {},
   "outputs": [],
   "source": [
    "def scalling(df, cols):\n",
    "    scal_df = df.copy()  \n",
    "    for col in cols:\n",
    "        max_val = scal_df[col].max()\n",
    "        min_val = scal_df[col].min()\n",
    "        scal_df[col] = (scal_df[col] - min_val) / (max_val - min_val)\n",
    "        \n",
    "    return  scal_df   "
   ]
  },
  {
   "cell_type": "code",
   "execution_count": 16,
   "metadata": {},
   "outputs": [],
   "source": [
    "cols = ['price','year','odometer']\n",
    "feature_2 = scalling(feature_1, cols)"
   ]
  },
  {
   "cell_type": "markdown",
   "metadata": {},
   "source": [
    "### 3.3 Feature converting\n",
    "\n",
    "A machine understands only numbers, it does not directly understand letters or text that we as humans can read. That means we need to convert our text and categorical data to numbers.\n"
   ]
  },
  {
   "cell_type": "code",
   "execution_count": 17,
   "metadata": {},
   "outputs": [],
   "source": [
    "clean_models = {'clean_model':{'tacoma': 1, 'tundra': 2, 'rav4': 3, 'prius': 4,'sienna': 5,\n",
    "                               '4runner': 6, 'highlander': 7, 'fj cruiser': 8, 'sequoia': 9,\n",
    "                               'avalon': 10, 'venza': 11, 'yaris': 12, 'matrix':13,\n",
    "                               'scion':14, 'pickup': 15, 'mr2':16, 'solara':17, '86': 18 }}\n",
    "\n",
    "feature_2.replace(clean_models,inplace=True)"
   ]
  },
  {
   "cell_type": "code",
   "execution_count": 18,
   "metadata": {},
   "outputs": [],
   "source": [
    "# convert categoric features to numberic values\n",
    "cylinders    = pd.get_dummies(feature_2['cylinders'],prefix='cyd')\n",
    "fuel         = pd.get_dummies(feature_2['fuel'],prefix='fuel')\n",
    "title_status = pd.get_dummies(feature_2['title_status'],prefix='ts')\n",
    "transmission = pd.get_dummies(feature_2['transmission'],prefix='trans')\n",
    "types        = pd.get_dummies(feature_2['type'],prefix='type')\n",
    "\n",
    "\n",
    "feature_3  = pd.concat([feature_2, cylinders, fuel, title_status, transmission, types], axis=1)\n",
    "final_data = feature_3.drop(columns=['cylinders','fuel', 'title_status','transmission','type'])"
   ]
  },
  {
   "cell_type": "code",
   "execution_count": 19,
   "metadata": {},
   "outputs": [
    {
     "data": {
      "text/html": [
       "<div>\n",
       "<style scoped>\n",
       "    .dataframe tbody tr th:only-of-type {\n",
       "        vertical-align: middle;\n",
       "    }\n",
       "\n",
       "    .dataframe tbody tr th {\n",
       "        vertical-align: top;\n",
       "    }\n",
       "\n",
       "    .dataframe thead th {\n",
       "        text-align: right;\n",
       "    }\n",
       "</style>\n",
       "<table border=\"1\" class=\"dataframe\">\n",
       "  <thead>\n",
       "    <tr style=\"text-align: right;\">\n",
       "      <th></th>\n",
       "      <th>price</th>\n",
       "      <th>year</th>\n",
       "      <th>odometer</th>\n",
       "      <th>clean_model</th>\n",
       "      <th>cyd_3 cylinders</th>\n",
       "      <th>cyd_4 cylinders</th>\n",
       "      <th>cyd_5 cylinders</th>\n",
       "      <th>cyd_6 cylinders</th>\n",
       "      <th>cyd_8 cylinders</th>\n",
       "      <th>cyd_other</th>\n",
       "      <th>...</th>\n",
       "      <th>type_coupe</th>\n",
       "      <th>type_hatchback</th>\n",
       "      <th>type_mini-van</th>\n",
       "      <th>type_offroad</th>\n",
       "      <th>type_other</th>\n",
       "      <th>type_pickup</th>\n",
       "      <th>type_sedan</th>\n",
       "      <th>type_truck</th>\n",
       "      <th>type_van</th>\n",
       "      <th>type_wagon</th>\n",
       "    </tr>\n",
       "  </thead>\n",
       "  <tbody>\n",
       "    <tr>\n",
       "      <th>0</th>\n",
       "      <td>0.246132</td>\n",
       "      <td>0.898305</td>\n",
       "      <td>0.011953</td>\n",
       "      <td>6</td>\n",
       "      <td>0</td>\n",
       "      <td>0</td>\n",
       "      <td>0</td>\n",
       "      <td>1</td>\n",
       "      <td>0</td>\n",
       "      <td>0</td>\n",
       "      <td>...</td>\n",
       "      <td>0</td>\n",
       "      <td>0</td>\n",
       "      <td>0</td>\n",
       "      <td>0</td>\n",
       "      <td>0</td>\n",
       "      <td>0</td>\n",
       "      <td>0</td>\n",
       "      <td>0</td>\n",
       "      <td>0</td>\n",
       "      <td>0</td>\n",
       "    </tr>\n",
       "    <tr>\n",
       "      <th>1</th>\n",
       "      <td>0.379649</td>\n",
       "      <td>0.932203</td>\n",
       "      <td>0.004911</td>\n",
       "      <td>6</td>\n",
       "      <td>0</td>\n",
       "      <td>0</td>\n",
       "      <td>0</td>\n",
       "      <td>1</td>\n",
       "      <td>0</td>\n",
       "      <td>0</td>\n",
       "      <td>...</td>\n",
       "      <td>0</td>\n",
       "      <td>0</td>\n",
       "      <td>0</td>\n",
       "      <td>0</td>\n",
       "      <td>0</td>\n",
       "      <td>0</td>\n",
       "      <td>0</td>\n",
       "      <td>0</td>\n",
       "      <td>0</td>\n",
       "      <td>0</td>\n",
       "    </tr>\n",
       "    <tr>\n",
       "      <th>2</th>\n",
       "      <td>0.181736</td>\n",
       "      <td>0.847458</td>\n",
       "      <td>0.021325</td>\n",
       "      <td>6</td>\n",
       "      <td>0</td>\n",
       "      <td>0</td>\n",
       "      <td>0</td>\n",
       "      <td>1</td>\n",
       "      <td>0</td>\n",
       "      <td>0</td>\n",
       "      <td>...</td>\n",
       "      <td>0</td>\n",
       "      <td>0</td>\n",
       "      <td>0</td>\n",
       "      <td>0</td>\n",
       "      <td>0</td>\n",
       "      <td>0</td>\n",
       "      <td>0</td>\n",
       "      <td>0</td>\n",
       "      <td>0</td>\n",
       "      <td>0</td>\n",
       "    </tr>\n",
       "    <tr>\n",
       "      <th>3</th>\n",
       "      <td>0.226085</td>\n",
       "      <td>0.864407</td>\n",
       "      <td>0.018663</td>\n",
       "      <td>6</td>\n",
       "      <td>0</td>\n",
       "      <td>0</td>\n",
       "      <td>0</td>\n",
       "      <td>1</td>\n",
       "      <td>0</td>\n",
       "      <td>0</td>\n",
       "      <td>...</td>\n",
       "      <td>0</td>\n",
       "      <td>0</td>\n",
       "      <td>0</td>\n",
       "      <td>0</td>\n",
       "      <td>0</td>\n",
       "      <td>0</td>\n",
       "      <td>0</td>\n",
       "      <td>0</td>\n",
       "      <td>0</td>\n",
       "      <td>0</td>\n",
       "    </tr>\n",
       "    <tr>\n",
       "      <th>4</th>\n",
       "      <td>0.246989</td>\n",
       "      <td>0.847458</td>\n",
       "      <td>0.012729</td>\n",
       "      <td>6</td>\n",
       "      <td>0</td>\n",
       "      <td>0</td>\n",
       "      <td>0</td>\n",
       "      <td>1</td>\n",
       "      <td>0</td>\n",
       "      <td>0</td>\n",
       "      <td>...</td>\n",
       "      <td>0</td>\n",
       "      <td>0</td>\n",
       "      <td>0</td>\n",
       "      <td>0</td>\n",
       "      <td>0</td>\n",
       "      <td>0</td>\n",
       "      <td>0</td>\n",
       "      <td>0</td>\n",
       "      <td>0</td>\n",
       "      <td>0</td>\n",
       "    </tr>\n",
       "  </tbody>\n",
       "</table>\n",
       "<p>5 rows × 36 columns</p>\n",
       "</div>"
      ],
      "text/plain": [
       "      price      year  odometer  clean_model  cyd_3 cylinders  \\\n",
       "0  0.246132  0.898305  0.011953            6                0   \n",
       "1  0.379649  0.932203  0.004911            6                0   \n",
       "2  0.181736  0.847458  0.021325            6                0   \n",
       "3  0.226085  0.864407  0.018663            6                0   \n",
       "4  0.246989  0.847458  0.012729            6                0   \n",
       "\n",
       "   cyd_4 cylinders  cyd_5 cylinders  cyd_6 cylinders  cyd_8 cylinders  \\\n",
       "0                0                0                1                0   \n",
       "1                0                0                1                0   \n",
       "2                0                0                1                0   \n",
       "3                0                0                1                0   \n",
       "4                0                0                1                0   \n",
       "\n",
       "   cyd_other  ...  type_coupe  type_hatchback  type_mini-van  type_offroad  \\\n",
       "0          0  ...           0               0              0             0   \n",
       "1          0  ...           0               0              0             0   \n",
       "2          0  ...           0               0              0             0   \n",
       "3          0  ...           0               0              0             0   \n",
       "4          0  ...           0               0              0             0   \n",
       "\n",
       "   type_other  type_pickup  type_sedan  type_truck  type_van  type_wagon  \n",
       "0           0            0           0           0         0           0  \n",
       "1           0            0           0           0         0           0  \n",
       "2           0            0           0           0         0           0  \n",
       "3           0            0           0           0         0           0  \n",
       "4           0            0           0           0         0           0  \n",
       "\n",
       "[5 rows x 36 columns]"
      ]
     },
     "execution_count": 19,
     "metadata": {},
     "output_type": "execute_result"
    }
   ],
   "source": [
    "# generate final data to be used for modelling\n",
    "final_data.head()"
   ]
  },
  {
   "cell_type": "markdown",
   "metadata": {},
   "source": [
    "## 4. Modelling\n",
    "\n",
    "**LightGBM Regression model**: is a fast, distributed, high-performance gradient boosting framework based on decision tree algorithm, which is frequently used for machine learning tasks.\n",
    "\n",
    "In this section. we will use LightGBM regression model to evaluate the performance on the validation data.\n",
    "\n",
    "\n"
   ]
  },
  {
   "cell_type": "code",
   "execution_count": 20,
   "metadata": {},
   "outputs": [],
   "source": [
    "features = list(final_data.columns)\n",
    "features.remove('price')\n",
    "\n",
    "train, test = train_test_split(final_data, train_size = 0.8, \n",
    "                               test_size = 0.2, random_state = 100)\n"
   ]
  },
  {
   "cell_type": "markdown",
   "metadata": {},
   "source": [
    "### 4.1 Hyper-parameters Tuning\n",
    "\n",
    "Hyperparameter tuning for LightGBM will be completed using 5-fold cross-validation through RandomizedSearchCV.\n"
   ]
  },
  {
   "cell_type": "code",
   "execution_count": 21,
   "metadata": {},
   "outputs": [
    {
     "name": "stdout",
     "output_type": "stream",
     "text": [
      "Fitting 5 folds for each of 10 candidates, totalling 50 fits\n",
      "[CV 1/5; 1/10] START colsample_bytree=0.49460164553802144, learning_rate=0.22808310444933622, max_depth=3, min_child_weight=1.2198762654711293, n_estimators=170, num_leaves=90\n",
      "[CV 1/5; 1/10] END colsample_bytree=0.49460164553802144, learning_rate=0.22808310444933622, max_depth=3, min_child_weight=1.2198762654711293, n_estimators=170, num_leaves=90;, score=-0.044 total time=   1.8s\n",
      "[CV 2/5; 1/10] START colsample_bytree=0.49460164553802144, learning_rate=0.22808310444933622, max_depth=3, min_child_weight=1.2198762654711293, n_estimators=170, num_leaves=90\n",
      "[CV 2/5; 1/10] END colsample_bytree=0.49460164553802144, learning_rate=0.22808310444933622, max_depth=3, min_child_weight=1.2198762654711293, n_estimators=170, num_leaves=90;, score=-0.041 total time=   1.2s\n",
      "[CV 3/5; 1/10] START colsample_bytree=0.49460164553802144, learning_rate=0.22808310444933622, max_depth=3, min_child_weight=1.2198762654711293, n_estimators=170, num_leaves=90\n",
      "[CV 3/5; 1/10] END colsample_bytree=0.49460164553802144, learning_rate=0.22808310444933622, max_depth=3, min_child_weight=1.2198762654711293, n_estimators=170, num_leaves=90;, score=-0.042 total time=   0.4s\n",
      "[CV 4/5; 1/10] START colsample_bytree=0.49460164553802144, learning_rate=0.22808310444933622, max_depth=3, min_child_weight=1.2198762654711293, n_estimators=170, num_leaves=90\n",
      "[CV 4/5; 1/10] END colsample_bytree=0.49460164553802144, learning_rate=0.22808310444933622, max_depth=3, min_child_weight=1.2198762654711293, n_estimators=170, num_leaves=90;, score=-0.044 total time=   0.2s\n",
      "[CV 5/5; 1/10] START colsample_bytree=0.49460164553802144, learning_rate=0.22808310444933622, max_depth=3, min_child_weight=1.2198762654711293, n_estimators=170, num_leaves=90\n",
      "[CV 5/5; 1/10] END colsample_bytree=0.49460164553802144, learning_rate=0.22808310444933622, max_depth=3, min_child_weight=1.2198762654711293, n_estimators=170, num_leaves=90;, score=-0.045 total time=   0.2s\n",
      "[CV 1/5; 2/10] START colsample_bytree=0.9965742301546493, learning_rate=0.40819720033319706, max_depth=12, min_child_weight=1.5210733760177686, n_estimators=1074, num_leaves=112\n",
      "[CV 1/5; 2/10] END colsample_bytree=0.9965742301546493, learning_rate=0.40819720033319706, max_depth=12, min_child_weight=1.5210733760177686, n_estimators=1074, num_leaves=112;, score=-0.041 total time=   4.0s\n",
      "[CV 2/5; 2/10] START colsample_bytree=0.9965742301546493, learning_rate=0.40819720033319706, max_depth=12, min_child_weight=1.5210733760177686, n_estimators=1074, num_leaves=112\n",
      "[CV 2/5; 2/10] END colsample_bytree=0.9965742301546493, learning_rate=0.40819720033319706, max_depth=12, min_child_weight=1.5210733760177686, n_estimators=1074, num_leaves=112;, score=-0.035 total time=   2.2s\n",
      "[CV 3/5; 2/10] START colsample_bytree=0.9965742301546493, learning_rate=0.40819720033319706, max_depth=12, min_child_weight=1.5210733760177686, n_estimators=1074, num_leaves=112\n",
      "[CV 3/5; 2/10] END colsample_bytree=0.9965742301546493, learning_rate=0.40819720033319706, max_depth=12, min_child_weight=1.5210733760177686, n_estimators=1074, num_leaves=112;, score=-0.039 total time=   2.0s\n",
      "[CV 4/5; 2/10] START colsample_bytree=0.9965742301546493, learning_rate=0.40819720033319706, max_depth=12, min_child_weight=1.5210733760177686, n_estimators=1074, num_leaves=112\n",
      "[CV 4/5; 2/10] END colsample_bytree=0.9965742301546493, learning_rate=0.40819720033319706, max_depth=12, min_child_weight=1.5210733760177686, n_estimators=1074, num_leaves=112;, score=-0.041 total time=   2.3s\n",
      "[CV 5/5; 2/10] START colsample_bytree=0.9965742301546493, learning_rate=0.40819720033319706, max_depth=12, min_child_weight=1.5210733760177686, n_estimators=1074, num_leaves=112\n",
      "[CV 5/5; 2/10] END colsample_bytree=0.9965742301546493, learning_rate=0.40819720033319706, max_depth=12, min_child_weight=1.5210733760177686, n_estimators=1074, num_leaves=112;, score=-0.041 total time=   2.6s\n",
      "[CV 1/5; 3/10] START colsample_bytree=0.3517648174965624, learning_rate=0.14546685649615498, max_depth=6, min_child_weight=0.17722502215472513, n_estimators=441, num_leaves=126\n",
      "[CV 1/5; 3/10] END colsample_bytree=0.3517648174965624, learning_rate=0.14546685649615498, max_depth=6, min_child_weight=0.17722502215472513, n_estimators=441, num_leaves=126;, score=-0.041 total time=   0.6s\n",
      "[CV 2/5; 3/10] START colsample_bytree=0.3517648174965624, learning_rate=0.14546685649615498, max_depth=6, min_child_weight=0.17722502215472513, n_estimators=441, num_leaves=126\n",
      "[CV 2/5; 3/10] END colsample_bytree=0.3517648174965624, learning_rate=0.14546685649615498, max_depth=6, min_child_weight=0.17722502215472513, n_estimators=441, num_leaves=126;, score=-0.036 total time=   0.4s\n",
      "[CV 3/5; 3/10] START colsample_bytree=0.3517648174965624, learning_rate=0.14546685649615498, max_depth=6, min_child_weight=0.17722502215472513, n_estimators=441, num_leaves=126\n",
      "[CV 3/5; 3/10] END colsample_bytree=0.3517648174965624, learning_rate=0.14546685649615498, max_depth=6, min_child_weight=0.17722502215472513, n_estimators=441, num_leaves=126;, score=-0.037 total time=   0.5s\n",
      "[CV 4/5; 3/10] START colsample_bytree=0.3517648174965624, learning_rate=0.14546685649615498, max_depth=6, min_child_weight=0.17722502215472513, n_estimators=441, num_leaves=126\n",
      "[CV 4/5; 3/10] END colsample_bytree=0.3517648174965624, learning_rate=0.14546685649615498, max_depth=6, min_child_weight=0.17722502215472513, n_estimators=441, num_leaves=126;, score=-0.039 total time=   0.4s\n",
      "[CV 5/5; 3/10] START colsample_bytree=0.3517648174965624, learning_rate=0.14546685649615498, max_depth=6, min_child_weight=0.17722502215472513, n_estimators=441, num_leaves=126\n",
      "[CV 5/5; 3/10] END colsample_bytree=0.3517648174965624, learning_rate=0.14546685649615498, max_depth=6, min_child_weight=0.17722502215472513, n_estimators=441, num_leaves=126;, score=-0.040 total time=   0.4s\n",
      "[CV 1/5; 4/10] START colsample_bytree=0.3135907464967046, learning_rate=0.8882000375238882, max_depth=8, min_child_weight=0.5293174444301045, n_estimators=179, num_leaves=125\n",
      "[CV 1/5; 4/10] END colsample_bytree=0.3135907464967046, learning_rate=0.8882000375238882, max_depth=8, min_child_weight=0.5293174444301045, n_estimators=179, num_leaves=125;, score=-0.042 total time=   0.3s\n",
      "[CV 2/5; 4/10] START colsample_bytree=0.3135907464967046, learning_rate=0.8882000375238882, max_depth=8, min_child_weight=0.5293174444301045, n_estimators=179, num_leaves=125\n",
      "[CV 2/5; 4/10] END colsample_bytree=0.3135907464967046, learning_rate=0.8882000375238882, max_depth=8, min_child_weight=0.5293174444301045, n_estimators=179, num_leaves=125;, score=-0.036 total time=   0.3s\n",
      "[CV 3/5; 4/10] START colsample_bytree=0.3135907464967046, learning_rate=0.8882000375238882, max_depth=8, min_child_weight=0.5293174444301045, n_estimators=179, num_leaves=125\n",
      "[CV 3/5; 4/10] END colsample_bytree=0.3135907464967046, learning_rate=0.8882000375238882, max_depth=8, min_child_weight=0.5293174444301045, n_estimators=179, num_leaves=125;, score=-0.039 total time=   0.3s\n",
      "[CV 4/5; 4/10] START colsample_bytree=0.3135907464967046, learning_rate=0.8882000375238882, max_depth=8, min_child_weight=0.5293174444301045, n_estimators=179, num_leaves=125\n",
      "[CV 4/5; 4/10] END colsample_bytree=0.3135907464967046, learning_rate=0.8882000375238882, max_depth=8, min_child_weight=0.5293174444301045, n_estimators=179, num_leaves=125;, score=-0.039 total time=   0.2s\n",
      "[CV 5/5; 4/10] START colsample_bytree=0.3135907464967046, learning_rate=0.8882000375238882, max_depth=8, min_child_weight=0.5293174444301045, n_estimators=179, num_leaves=125\n",
      "[CV 5/5; 4/10] END colsample_bytree=0.3135907464967046, learning_rate=0.8882000375238882, max_depth=8, min_child_weight=0.5293174444301045, n_estimators=179, num_leaves=125;, score=-0.040 total time=   0.2s\n",
      "[CV 1/5; 5/10] START colsample_bytree=0.524103502664114, learning_rate=0.9280009278165524, max_depth=5, min_child_weight=0.33358375233914805, n_estimators=1092, num_leaves=87\n",
      "[CV 1/5; 5/10] END colsample_bytree=0.524103502664114, learning_rate=0.9280009278165524, max_depth=5, min_child_weight=0.33358375233914805, n_estimators=1092, num_leaves=87;, score=-0.042 total time=   0.8s\n",
      "[CV 2/5; 5/10] START colsample_bytree=0.524103502664114, learning_rate=0.9280009278165524, max_depth=5, min_child_weight=0.33358375233914805, n_estimators=1092, num_leaves=87\n",
      "[CV 2/5; 5/10] END colsample_bytree=0.524103502664114, learning_rate=0.9280009278165524, max_depth=5, min_child_weight=0.33358375233914805, n_estimators=1092, num_leaves=87;, score=-0.036 total time=   0.9s\n",
      "[CV 3/5; 5/10] START colsample_bytree=0.524103502664114, learning_rate=0.9280009278165524, max_depth=5, min_child_weight=0.33358375233914805, n_estimators=1092, num_leaves=87\n",
      "[CV 3/5; 5/10] END colsample_bytree=0.524103502664114, learning_rate=0.9280009278165524, max_depth=5, min_child_weight=0.33358375233914805, n_estimators=1092, num_leaves=87;, score=-0.039 total time=   0.8s\n",
      "[CV 4/5; 5/10] START colsample_bytree=0.524103502664114, learning_rate=0.9280009278165524, max_depth=5, min_child_weight=0.33358375233914805, n_estimators=1092, num_leaves=87\n",
      "[CV 4/5; 5/10] END colsample_bytree=0.524103502664114, learning_rate=0.9280009278165524, max_depth=5, min_child_weight=0.33358375233914805, n_estimators=1092, num_leaves=87;, score=-0.039 total time=   0.7s\n",
      "[CV 5/5; 5/10] START colsample_bytree=0.524103502664114, learning_rate=0.9280009278165524, max_depth=5, min_child_weight=0.33358375233914805, n_estimators=1092, num_leaves=87\n",
      "[CV 5/5; 5/10] END colsample_bytree=0.524103502664114, learning_rate=0.9280009278165524, max_depth=5, min_child_weight=0.33358375233914805, n_estimators=1092, num_leaves=87;, score=-0.041 total time=   1.0s\n",
      "[CV 1/5; 6/10] START colsample_bytree=0.7885694826175071, learning_rate=0.27714299452604074, max_depth=5, min_child_weight=0.3596553881275748, n_estimators=1345, num_leaves=114\n",
      "[CV 1/5; 6/10] END colsample_bytree=0.7885694826175071, learning_rate=0.27714299452604074, max_depth=5, min_child_weight=0.3596553881275748, n_estimators=1345, num_leaves=114;, score=-0.039 total time=   1.4s\n",
      "[CV 2/5; 6/10] START colsample_bytree=0.7885694826175071, learning_rate=0.27714299452604074, max_depth=5, min_child_weight=0.3596553881275748, n_estimators=1345, num_leaves=114\n",
      "[CV 2/5; 6/10] END colsample_bytree=0.7885694826175071, learning_rate=0.27714299452604074, max_depth=5, min_child_weight=0.3596553881275748, n_estimators=1345, num_leaves=114;, score=-0.033 total time=   1.1s\n",
      "[CV 3/5; 6/10] START colsample_bytree=0.7885694826175071, learning_rate=0.27714299452604074, max_depth=5, min_child_weight=0.3596553881275748, n_estimators=1345, num_leaves=114\n",
      "[CV 3/5; 6/10] END colsample_bytree=0.7885694826175071, learning_rate=0.27714299452604074, max_depth=5, min_child_weight=0.3596553881275748, n_estimators=1345, num_leaves=114;, score=-0.036 total time=   0.8s\n",
      "[CV 4/5; 6/10] START colsample_bytree=0.7885694826175071, learning_rate=0.27714299452604074, max_depth=5, min_child_weight=0.3596553881275748, n_estimators=1345, num_leaves=114\n",
      "[CV 4/5; 6/10] END colsample_bytree=0.7885694826175071, learning_rate=0.27714299452604074, max_depth=5, min_child_weight=0.3596553881275748, n_estimators=1345, num_leaves=114;, score=-0.038 total time=   1.1s\n",
      "[CV 5/5; 6/10] START colsample_bytree=0.7885694826175071, learning_rate=0.27714299452604074, max_depth=5, min_child_weight=0.3596553881275748, n_estimators=1345, num_leaves=114\n",
      "[CV 5/5; 6/10] END colsample_bytree=0.7885694826175071, learning_rate=0.27714299452604074, max_depth=5, min_child_weight=0.3596553881275748, n_estimators=1345, num_leaves=114;, score=-0.038 total time=   0.9s\n",
      "[CV 1/5; 7/10] START colsample_bytree=0.9380152229423919, learning_rate=0.7140927074340937, max_depth=9, min_child_weight=0.4023704746625971, n_estimators=1276, num_leaves=111\n",
      "[CV 1/5; 7/10] END colsample_bytree=0.9380152229423919, learning_rate=0.7140927074340937, max_depth=9, min_child_weight=0.4023704746625971, n_estimators=1276, num_leaves=111;, score=-0.042 total time=   2.2s\n",
      "[CV 2/5; 7/10] START colsample_bytree=0.9380152229423919, learning_rate=0.7140927074340937, max_depth=9, min_child_weight=0.4023704746625971, n_estimators=1276, num_leaves=111\n",
      "[CV 2/5; 7/10] END colsample_bytree=0.9380152229423919, learning_rate=0.7140927074340937, max_depth=9, min_child_weight=0.4023704746625971, n_estimators=1276, num_leaves=111;, score=-0.038 total time=   3.0s\n",
      "[CV 3/5; 7/10] START colsample_bytree=0.9380152229423919, learning_rate=0.7140927074340937, max_depth=9, min_child_weight=0.4023704746625971, n_estimators=1276, num_leaves=111\n",
      "[CV 3/5; 7/10] END colsample_bytree=0.9380152229423919, learning_rate=0.7140927074340937, max_depth=9, min_child_weight=0.4023704746625971, n_estimators=1276, num_leaves=111;, score=-0.041 total time=   2.9s\n",
      "[CV 4/5; 7/10] START colsample_bytree=0.9380152229423919, learning_rate=0.7140927074340937, max_depth=9, min_child_weight=0.4023704746625971, n_estimators=1276, num_leaves=111\n",
      "[CV 4/5; 7/10] END colsample_bytree=0.9380152229423919, learning_rate=0.7140927074340937, max_depth=9, min_child_weight=0.4023704746625971, n_estimators=1276, num_leaves=111;, score=-0.043 total time=   2.7s\n",
      "[CV 5/5; 7/10] START colsample_bytree=0.9380152229423919, learning_rate=0.7140927074340937, max_depth=9, min_child_weight=0.4023704746625971, n_estimators=1276, num_leaves=111\n",
      "[CV 5/5; 7/10] END colsample_bytree=0.9380152229423919, learning_rate=0.7140927074340937, max_depth=9, min_child_weight=0.4023704746625971, n_estimators=1276, num_leaves=111;, score=-0.043 total time=   2.5s\n",
      "[CV 1/5; 8/10] START colsample_bytree=0.31797436927572065, learning_rate=0.6744103184581233, max_depth=6, min_child_weight=1.2998317361781244, n_estimators=1310, num_leaves=63\n",
      "[CV 1/5; 8/10] END colsample_bytree=0.31797436927572065, learning_rate=0.6744103184581233, max_depth=6, min_child_weight=1.2998317361781244, n_estimators=1310, num_leaves=63;, score=-0.040 total time=   1.5s\n",
      "[CV 2/5; 8/10] START colsample_bytree=0.31797436927572065, learning_rate=0.6744103184581233, max_depth=6, min_child_weight=1.2998317361781244, n_estimators=1310, num_leaves=63\n",
      "[CV 2/5; 8/10] END colsample_bytree=0.31797436927572065, learning_rate=0.6744103184581233, max_depth=6, min_child_weight=1.2998317361781244, n_estimators=1310, num_leaves=63;, score=-0.035 total time=   1.5s\n",
      "[CV 3/5; 8/10] START colsample_bytree=0.31797436927572065, learning_rate=0.6744103184581233, max_depth=6, min_child_weight=1.2998317361781244, n_estimators=1310, num_leaves=63\n",
      "[CV 3/5; 8/10] END colsample_bytree=0.31797436927572065, learning_rate=0.6744103184581233, max_depth=6, min_child_weight=1.2998317361781244, n_estimators=1310, num_leaves=63;, score=-0.039 total time=   1.2s\n",
      "[CV 4/5; 8/10] START colsample_bytree=0.31797436927572065, learning_rate=0.6744103184581233, max_depth=6, min_child_weight=1.2998317361781244, n_estimators=1310, num_leaves=63\n",
      "[CV 4/5; 8/10] END colsample_bytree=0.31797436927572065, learning_rate=0.6744103184581233, max_depth=6, min_child_weight=1.2998317361781244, n_estimators=1310, num_leaves=63;, score=-0.039 total time=   1.8s\n",
      "[CV 5/5; 8/10] START colsample_bytree=0.31797436927572065, learning_rate=0.6744103184581233, max_depth=6, min_child_weight=1.2998317361781244, n_estimators=1310, num_leaves=63\n",
      "[CV 5/5; 8/10] END colsample_bytree=0.31797436927572065, learning_rate=0.6744103184581233, max_depth=6, min_child_weight=1.2998317361781244, n_estimators=1310, num_leaves=63;, score=-0.040 total time=   1.5s\n",
      "[CV 1/5; 9/10] START colsample_bytree=0.22203939207967582, learning_rate=0.6823571691363788, max_depth=5, min_child_weight=1.5934345265621368, n_estimators=877, num_leaves=49\n",
      "[CV 1/5; 9/10] END colsample_bytree=0.22203939207967582, learning_rate=0.6823571691363788, max_depth=5, min_child_weight=1.5934345265621368, n_estimators=877, num_leaves=49;, score=-0.041 total time=   0.8s\n",
      "[CV 2/5; 9/10] START colsample_bytree=0.22203939207967582, learning_rate=0.6823571691363788, max_depth=5, min_child_weight=1.5934345265621368, n_estimators=877, num_leaves=49\n",
      "[CV 2/5; 9/10] END colsample_bytree=0.22203939207967582, learning_rate=0.6823571691363788, max_depth=5, min_child_weight=1.5934345265621368, n_estimators=877, num_leaves=49;, score=-0.035 total time=   1.0s\n",
      "[CV 3/5; 9/10] START colsample_bytree=0.22203939207967582, learning_rate=0.6823571691363788, max_depth=5, min_child_weight=1.5934345265621368, n_estimators=877, num_leaves=49\n",
      "[CV 3/5; 9/10] END colsample_bytree=0.22203939207967582, learning_rate=0.6823571691363788, max_depth=5, min_child_weight=1.5934345265621368, n_estimators=877, num_leaves=49;, score=-0.037 total time=   0.6s\n",
      "[CV 4/5; 9/10] START colsample_bytree=0.22203939207967582, learning_rate=0.6823571691363788, max_depth=5, min_child_weight=1.5934345265621368, n_estimators=877, num_leaves=49\n",
      "[CV 4/5; 9/10] END colsample_bytree=0.22203939207967582, learning_rate=0.6823571691363788, max_depth=5, min_child_weight=1.5934345265621368, n_estimators=877, num_leaves=49;, score=-0.039 total time=   0.6s\n",
      "[CV 5/5; 9/10] START colsample_bytree=0.22203939207967582, learning_rate=0.6823571691363788, max_depth=5, min_child_weight=1.5934345265621368, n_estimators=877, num_leaves=49\n",
      "[CV 5/5; 9/10] END colsample_bytree=0.22203939207967582, learning_rate=0.6823571691363788, max_depth=5, min_child_weight=1.5934345265621368, n_estimators=877, num_leaves=49;, score=-0.039 total time=   0.5s\n",
      "[CV 1/5; 10/10] START colsample_bytree=0.9178782191583899, learning_rate=0.7818336777267559, max_depth=2, min_child_weight=0.9108136910923523, n_estimators=609, num_leaves=112\n",
      "[CV 1/5; 10/10] END colsample_bytree=0.9178782191583899, learning_rate=0.7818336777267559, max_depth=2, min_child_weight=0.9108136910923523, n_estimators=609, num_leaves=112;, score=-0.044 total time=   0.2s\n",
      "[CV 2/5; 10/10] START colsample_bytree=0.9178782191583899, learning_rate=0.7818336777267559, max_depth=2, min_child_weight=0.9108136910923523, n_estimators=609, num_leaves=112\n",
      "[CV 2/5; 10/10] END colsample_bytree=0.9178782191583899, learning_rate=0.7818336777267559, max_depth=2, min_child_weight=0.9108136910923523, n_estimators=609, num_leaves=112;, score=-0.039 total time=   0.2s\n",
      "[CV 3/5; 10/10] START colsample_bytree=0.9178782191583899, learning_rate=0.7818336777267559, max_depth=2, min_child_weight=0.9108136910923523, n_estimators=609, num_leaves=112\n",
      "[CV 3/5; 10/10] END colsample_bytree=0.9178782191583899, learning_rate=0.7818336777267559, max_depth=2, min_child_weight=0.9108136910923523, n_estimators=609, num_leaves=112;, score=-0.041 total time=   0.3s\n",
      "[CV 4/5; 10/10] START colsample_bytree=0.9178782191583899, learning_rate=0.7818336777267559, max_depth=2, min_child_weight=0.9108136910923523, n_estimators=609, num_leaves=112\n",
      "[CV 4/5; 10/10] END colsample_bytree=0.9178782191583899, learning_rate=0.7818336777267559, max_depth=2, min_child_weight=0.9108136910923523, n_estimators=609, num_leaves=112;, score=-0.042 total time=   0.4s\n",
      "[CV 5/5; 10/10] START colsample_bytree=0.9178782191583899, learning_rate=0.7818336777267559, max_depth=2, min_child_weight=0.9108136910923523, n_estimators=609, num_leaves=112\n",
      "[CV 5/5; 10/10] END colsample_bytree=0.9178782191583899, learning_rate=0.7818336777267559, max_depth=2, min_child_weight=0.9108136910923523, n_estimators=609, num_leaves=112;, score=-0.042 total time=   0.2s\n"
     ]
    }
   ],
   "source": [
    "model = lgb.LGBMRegressor(subsample=0.7)\n",
    "kf = KFold(n_splits=5,shuffle = True, random_state = 100)\n",
    "\n",
    "params = {'learning_rate': uniform(0, 1),\n",
    "          'n_estimators': sp_randint(100, 1500),\n",
    "          'num_leaves': sp_randint(20, 150),\n",
    "          'max_depth': sp_randint(2, 15),\n",
    "          'min_child_weight': uniform(0, 2),\n",
    "          'colsample_bytree': uniform(0, 1),\n",
    "         }\n",
    "model_random = RandomizedSearchCV(model, param_distributions=params, cv=kf, random_state=50, \n",
    "                                  scoring='neg_root_mean_squared_error', verbose= 10)\n",
    "model_random = model_random.fit(train[features], train['price'])\n",
    "\n",
    "best_params = model_random.best_params_\n"
   ]
  },
  {
   "cell_type": "code",
   "execution_count": 22,
   "metadata": {},
   "outputs": [],
   "source": [
    "lgb_model = lgb.LGBMRegressor(**best_params, subsample=0.7, random_state=50, n_jobs=-1)\n",
    "lgb_model.fit(train[features], train['price'])\n",
    "\n",
    "lgb_preds_train = lgb_model.predict(train[features])\n",
    "lgb_preds_test = lgb_model.predict(test[features])\n",
    "\n",
    "train_rmse = np.sqrt(mean_squared_error(train['price'], lgb_preds_train))\n",
    "test_rmse = np.sqrt(mean_squared_error(test['price'], lgb_preds_test))\n"
   ]
  },
  {
   "cell_type": "markdown",
   "metadata": {},
   "source": [
    "### 4.2 Model evaluation\n",
    "\n",
    "Model evaluation is important for us to understand the performance of ML model. \n",
    "\n",
    "Root Mean Square Error(RMSE), the standard deviation of the residuals (prediction errors), is a commonly used metric for regression. \n",
    "\n",
    "Since the `price` values range from 0 to 1 after scalling, we think the RMSE value between 0.02-0.03 is acceptable.\n"
   ]
  },
  {
   "cell_type": "code",
   "execution_count": 23,
   "metadata": {},
   "outputs": [
    {
     "name": "stdout",
     "output_type": "stream",
     "text": [
      "+----------+----------------------+---------------------+\n",
      "|  Model   |      Train RMSE      |      Test RMSE      |\n",
      "+----------+----------------------+---------------------+\n",
      "| LightGBM | 0.025058326111473527 | 0.03419371432163298 |\n",
      "+----------+----------------------+---------------------+\n"
     ]
    }
   ],
   "source": [
    "x = PrettyTable()\n",
    "x.field_names = ['Model', 'Train RMSE', 'Test RMSE']\n",
    "x.add_row(['LightGBM', train_rmse, test_rmse])\n",
    "\n",
    "print(x)"
   ]
  },
  {
   "cell_type": "markdown",
   "metadata": {},
   "source": [
    "## 5. Predicting"
   ]
  },
  {
   "cell_type": "markdown",
   "metadata": {},
   "source": [
    "### 5.1 Preparation"
   ]
  },
  {
   "cell_type": "code",
   "execution_count": 24,
   "metadata": {},
   "outputs": [
    {
     "name": "stdout",
     "output_type": "stream",
     "text": [
      "+------------+------+\n",
      "|   Model    | Code |\n",
      "+------------+------+\n",
      "|   tacoma   |  1   |\n",
      "|   tundra   |  2   |\n",
      "|    rav4    |  3   |\n",
      "|   prius    |  4   |\n",
      "|   sienna   |  5   |\n",
      "|  4runner   |  6   |\n",
      "| highlander |  7   |\n",
      "| fj cruiser |  8   |\n",
      "|  sequoia   |  9   |\n",
      "|   avalon   |  10  |\n",
      "|   venza    |  11  |\n",
      "|   yaris    |  12  |\n",
      "|   matrix   |  13  |\n",
      "|   scion    |  14  |\n",
      "|   pickup   |  15  |\n",
      "|    mr2     |  16  |\n",
      "|   solara   |  17  |\n",
      "|     86     |  18  |\n",
      "+------------+------+\n"
     ]
    }
   ],
   "source": [
    "car_code = PrettyTable()\n",
    "\n",
    "column_names = ['Model', 'Code']                      \n",
    "car_code.add_column(column_names[0],['tacoma', 'tundra', 'rav4', 'prius', 'sienna',\n",
    "                    '4runner', 'highlander', 'fj cruiser', 'sequoia', 'avalon',                        \n",
    "                    'venza', 'yaris', 'matrix','scion', 'pickup', 'mr2', 'solara','86'])\n",
    "car_code.add_column(column_names[1], [1,2,3,4,5,6,7,8,9,10,11,12,13,14,15,16,17,18])\n",
    "\n",
    "print(car_code)"
   ]
  },
  {
   "cell_type": "code",
   "execution_count": 25,
   "metadata": {},
   "outputs": [],
   "source": [
    "def input_(year, model, odometer):\n",
    "    car_cat = {'tacoma': 1, 'tundra': 2, 'rav4': 3, 'prius': 4,'sienna': 5,\n",
    "               '4runner': 6, 'highlander': 7, 'fj cruiser': 8, 'sequoia': 9,\n",
    "               'avalon': 10, 'venza': 11, 'yaris': 12, 'matrix':13,\n",
    "               'scion':14, 'pickup': 15, 'mr2':16, 'solara':17, '86': 18 }\n",
    "    \n",
    "    scal_year = (year - feature_1['year'].min()) / (feature_1['year'].max()-feature_1['year'].min())\n",
    "    scal_odom = (odometer - feature_1['odometer'].min()) / (feature_1['odometer'].max()-feature_1['odometer'].min())\n",
    "    \n",
    "    for k, val in car_cat.items():\n",
    "        if model== k:\n",
    "            scal_model = val\n",
    "            \n",
    "    columns = list(final_data[features].columns) \n",
    "    ipt = pd.DataFrame(columns=columns)\n",
    "    row = {'year': scal_year, 'odometer': scal_odom, 'clean_model': scal_model, 'type_SUV': 1}\n",
    "    ipt = ipt.append(row, ignore_index=True)\n",
    "    ipt.fillna(0, inplace=True)\n",
    "    return ipt"
   ]
  },
  {
   "cell_type": "code",
   "execution_count": 26,
   "metadata": {},
   "outputs": [
    {
     "data": {
      "text/plain": [
       "45474.26"
      ]
     },
     "execution_count": 26,
     "metadata": {},
     "output_type": "execute_result"
    }
   ],
   "source": [
    "avg_odo = feature_1[(feature_1['clean_model'] == '4runner') & (feature_1['year'] == 2018)]['odometer'].mean()\n",
    "avg_odo = round(avg_odo,2)\n",
    "avg_odo"
   ]
  },
  {
   "cell_type": "markdown",
   "metadata": {},
   "source": [
    "### 5.2 Input values\n",
    "The vehicle's information we will use to predict price is:\n",
    "\n",
    "- year : 2018\n",
    "- model: 4runner\n",
    "- avg_odometer: 45474.26 (calculated based on the original dataset)\n"
   ]
  },
  {
   "cell_type": "code",
   "execution_count": 27,
   "metadata": {},
   "outputs": [],
   "source": [
    "inpt = input_(2018, '4runner', avg_odo)\n",
    "price = lgb_model.predict(inpt)\n",
    "pred_price =  price*(feature_1['price'].max() - feature_1['price'].min()) + feature_1['price'].min()"
   ]
  },
  {
   "cell_type": "markdown",
   "metadata": {},
   "source": [
    "### 5.3 Conclusion"
   ]
  },
  {
   "cell_type": "code",
   "execution_count": 28,
   "metadata": {},
   "outputs": [
    {
     "name": "stdout",
     "output_type": "stream",
     "text": [
      "+----------+---------+\n",
      "|  INPUT   |  OUTPUT |\n",
      "+----------+---------+\n",
      "|   2018   |         |\n",
      "| 4runner  | 41563.0 |\n",
      "| 45474.26 |         |\n",
      "+----------+---------+\n"
     ]
    }
   ],
   "source": [
    "c = PrettyTable()\n",
    "\n",
    "c_column_names=['INPUT', 'OUTPUT']\n",
    "c.add_column(c_column_names[0],[2018, '4runner', avg_odo])\n",
    "c.add_column(c_column_names[1],['',round(pred_price[0],0),''])\n",
    "\n",
    "print(c)"
   ]
  },
  {
   "cell_type": "code",
   "execution_count": 30,
   "metadata": {},
   "outputs": [
    {
     "data": {
      "text/html": [
       "<div>\n",
       "<style scoped>\n",
       "    .dataframe tbody tr th:only-of-type {\n",
       "        vertical-align: middle;\n",
       "    }\n",
       "\n",
       "    .dataframe tbody tr th {\n",
       "        vertical-align: top;\n",
       "    }\n",
       "\n",
       "    .dataframe thead th {\n",
       "        text-align: right;\n",
       "    }\n",
       "</style>\n",
       "<table border=\"1\" class=\"dataframe\">\n",
       "  <thead>\n",
       "    <tr style=\"text-align: right;\">\n",
       "      <th></th>\n",
       "      <th>year</th>\n",
       "      <th>clean_model</th>\n",
       "      <th>price</th>\n",
       "      <th>odometer</th>\n",
       "    </tr>\n",
       "  </thead>\n",
       "  <tbody>\n",
       "    <tr>\n",
       "      <th>289</th>\n",
       "      <td>2018</td>\n",
       "      <td>4runner</td>\n",
       "      <td>38952</td>\n",
       "      <td>41570.0</td>\n",
       "    </tr>\n",
       "    <tr>\n",
       "      <th>484</th>\n",
       "      <td>2018</td>\n",
       "      <td>4runner</td>\n",
       "      <td>43999</td>\n",
       "      <td>48078.0</td>\n",
       "    </tr>\n",
       "    <tr>\n",
       "      <th>487</th>\n",
       "      <td>2018</td>\n",
       "      <td>4runner</td>\n",
       "      <td>43999</td>\n",
       "      <td>48078.0</td>\n",
       "    </tr>\n",
       "    <tr>\n",
       "      <th>571</th>\n",
       "      <td>2018</td>\n",
       "      <td>4runner</td>\n",
       "      <td>39990</td>\n",
       "      <td>43242.0</td>\n",
       "    </tr>\n",
       "    <tr>\n",
       "      <th>576</th>\n",
       "      <td>2018</td>\n",
       "      <td>4runner</td>\n",
       "      <td>39990</td>\n",
       "      <td>43242.0</td>\n",
       "    </tr>\n",
       "    <tr>\n",
       "      <th>683</th>\n",
       "      <td>2018</td>\n",
       "      <td>4runner</td>\n",
       "      <td>39990</td>\n",
       "      <td>43242.0</td>\n",
       "    </tr>\n",
       "    <tr>\n",
       "      <th>1068</th>\n",
       "      <td>2018</td>\n",
       "      <td>4runner</td>\n",
       "      <td>42999</td>\n",
       "      <td>41572.0</td>\n",
       "    </tr>\n",
       "    <tr>\n",
       "      <th>1124</th>\n",
       "      <td>2018</td>\n",
       "      <td>4runner</td>\n",
       "      <td>42999</td>\n",
       "      <td>42400.0</td>\n",
       "    </tr>\n",
       "    <tr>\n",
       "      <th>1126</th>\n",
       "      <td>2018</td>\n",
       "      <td>4runner</td>\n",
       "      <td>42999</td>\n",
       "      <td>42400.0</td>\n",
       "    </tr>\n",
       "    <tr>\n",
       "      <th>1624</th>\n",
       "      <td>2018</td>\n",
       "      <td>4runner</td>\n",
       "      <td>42999</td>\n",
       "      <td>46199.0</td>\n",
       "    </tr>\n",
       "    <tr>\n",
       "      <th>1630</th>\n",
       "      <td>2018</td>\n",
       "      <td>4runner</td>\n",
       "      <td>42999</td>\n",
       "      <td>46199.0</td>\n",
       "    </tr>\n",
       "    <tr>\n",
       "      <th>1712</th>\n",
       "      <td>2018</td>\n",
       "      <td>4runner</td>\n",
       "      <td>39990</td>\n",
       "      <td>44000.0</td>\n",
       "    </tr>\n",
       "  </tbody>\n",
       "</table>\n",
       "</div>"
      ],
      "text/plain": [
       "      year clean_model  price  odometer\n",
       "289   2018     4runner  38952   41570.0\n",
       "484   2018     4runner  43999   48078.0\n",
       "487   2018     4runner  43999   48078.0\n",
       "571   2018     4runner  39990   43242.0\n",
       "576   2018     4runner  39990   43242.0\n",
       "683   2018     4runner  39990   43242.0\n",
       "1068  2018     4runner  42999   41572.0\n",
       "1124  2018     4runner  42999   42400.0\n",
       "1126  2018     4runner  42999   42400.0\n",
       "1624  2018     4runner  42999   46199.0\n",
       "1630  2018     4runner  42999   46199.0\n",
       "1712  2018     4runner  39990   44000.0"
      ]
     },
     "execution_count": 30,
     "metadata": {},
     "output_type": "execute_result"
    }
   ],
   "source": [
    "feature_1[(feature_1['clean_model'] == '4runner') & (feature_1['year'] == 2018) \n",
    "              & (feature_1['odometer'] > 41000) & (feature_1['odometer'] < 50000) ][['year','clean_model','price','odometer']]"
   ]
  },
  {
   "cell_type": "markdown",
   "metadata": {},
   "source": [
    "The predicted price of  vehicle -'2018 4runner trd pro, good condition with average km's for their age' is $41,563. \n",
    "\n",
    "When listed the vehicles - 2018 4runner with odometer between 41,000 to 45,000 from the previous cleaned dataset, we can see that the predicted price is reasonable.\n"
   ]
  },
  {
   "cell_type": "markdown",
   "metadata": {},
   "source": [
    "## 6. Final Solution and Improvements to Existing Approach\n",
    "\n",
    "Based on the model, the predicted price of '2018 4runner trd pro' is 41563. It is worth noting that due to current surge in used car sales prices and global shortage in vehicle chips, it is forcasted the sale price will continue to rise for used cars. \n",
    "\n",
    "The management can adjust this price based on market situation and vehicle management cost, which could lead a price difference. \n"
   ]
  },
  {
   "cell_type": "markdown",
   "metadata": {},
   "source": [
    "There are also some improvements to the exisiting approach to improve the predicted accuray:\n",
    "\n",
    "- Filling  missing values based on online information, such as vehicle type, cylinders, size, etc.\n",
    "\n",
    "- Instead of just using 18 main Toyota vehicle models, we can generate features to make detailed classification, such as 'pro', 'limited', etc."
   ]
  }
 ],
 "metadata": {
  "kernelspec": {
   "display_name": "Python 3",
   "language": "python",
   "name": "python3"
  },
  "language_info": {
   "codemirror_mode": {
    "name": "ipython",
    "version": 3
   },
   "file_extension": ".py",
   "mimetype": "text/x-python",
   "name": "python",
   "nbconvert_exporter": "python",
   "pygments_lexer": "ipython3",
   "version": "3.8.5"
  }
 },
 "nbformat": 4,
 "nbformat_minor": 4
}
